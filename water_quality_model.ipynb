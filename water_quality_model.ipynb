# Install necessary packages
!pip install scikit-learn joblib

# Import libraries
import pandas as pd
from sklearn.model_selection import train_test_split
from sklearn.ensemble import RandomForestClassifier
from sklearn.impute import SimpleImputer
from sklearn.preprocessing import StandardScaler
import joblib
import os
from google.colab import files


df = pd.read_csv('water_potability.csv')

# Separate features and label
X = df.drop('Potability', axis=1)
y = df['Potability']

# Handle missing values
imputer = SimpleImputer(strategy='mean')
X_imputed = imputer.fit_transform(X)

# Scale the features
scaler = StandardScaler()
X_scaled = scaler.fit_transform(X_imputed)

# Split into train/test
X_train, X_test, y_train, y_test = train_test_split(X_scaled, y, test_size=0.2, random_state=42)

# Train the model
model = RandomForestClassifier(random_state=42)
model.fit(X_train, y_train)

# Save the model and scaler to a folder
os.makedirs("model_folder", exist_ok=True)
joblib.dump(model, 'model_folder/model.pkl')
joblib.dump(scaler, 'model_folder/scaler.pkl')

# Download model files
files.download('model_folder/model.pkl')
files.download('model_folder/scaler.pkl')